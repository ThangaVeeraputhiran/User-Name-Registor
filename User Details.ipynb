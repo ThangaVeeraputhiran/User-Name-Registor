{
 "cells": [
  {
   "cell_type": "markdown",
   "id": "39724b01-e27d-4b9f-b506-8767841e78a7",
   "metadata": {},
   "source": [
    "![img](img.jpg)\n"
   ]
  },
  {
   "cell_type": "markdown",
   "id": "2d915951-4dbd-49ac-bc0d-8ae3df53f586",
   "metadata": {},
   "source": [
    "You are a junior developer working in a small start-up. Your managers have asked you to develop a new account registration system for a mobile app. The system must validate user input on the sign-up form before creating an account. \n",
    "\n",
    "The previous junior developer wrote some helper functions that validate the name, email, and password. Use these functions to register users, store their data, and implement some error handling! These have been imported into the workspace for you. They will be a great help to you when registering the user, but first you have to understand what the function does! Inspect the docstrings of each of the helper functions: `validate_name`, `validate_email` and `validate_password`."
   ]
  },
  {
   "cell_type": "code",
   "execution_count": null,
   "id": "89e2bca9-7ff6-4259-b33a-a85607997083",
   "metadata": {
    "executionCancelledAt": null,
    "executionTime": 4239,
    "lastExecutedAt": 1759069490433,
    "lastExecutedByKernel": "9a2c43c9-416c-4f46-a747-192d17bc27f7",
    "lastScheduledRunId": null,
    "lastSuccessfullyExecutedCode": "# Re-run this cell and examine the docstring of each function\nfrom python_functions import validate_name, validate_email, validate_password, top_level_domains\ndef validate_user(name,email,password):\n    \n    if validate_name(name)== False:\n        raise ValueError(\"error message about the failing validation\")\n    if validate_email(email) == False:\n        raise ValueError(\"error message about the failing validation\")\n    if validate_password(password) == False:\n        raise ValueError(\"error message about the failing validation\")\n    return True\ndef register_user(name,email,password):\n    try:\n        validate_user(name,email,password) \n    except:\n        return False\n    user = {\"name\" : name,\n            \"email\" : email,\n            \"password\" : password}\n    return user",
    "outputsMetadata": {
     "0": {
      "height": 520,
      "type": "stream"
     }
    }
   },
   "outputs": [
    {
     "ename": "ModuleNotFoundError",
     "evalue": "No module named 'python_functions'",
     "output_type": "error",
     "traceback": [
      "\u001b[31m---------------------------------------------------------------------------\u001b[39m",
      "\u001b[31mModuleNotFoundError\u001b[39m                       Traceback (most recent call last)",
      "\u001b[36mCell\u001b[39m\u001b[36m \u001b[39m\u001b[32mIn[11]\u001b[39m\u001b[32m, line 2\u001b[39m\n\u001b[32m      1\u001b[39m \u001b[38;5;66;03m# Re-run this cell and examine the docstring of each function\u001b[39;00m\n\u001b[32m----> \u001b[39m\u001b[32m2\u001b[39m \u001b[38;5;28;01mfrom\u001b[39;00m\u001b[38;5;250m \u001b[39m\u001b[34;01mpython_functions\u001b[39;00m\u001b[38;5;250m \u001b[39m\u001b[38;5;28;01mimport\u001b[39;00m validate_name, validate_email, validate_password\n\u001b[32m      3\u001b[39m \u001b[38;5;28;01mdef\u001b[39;00m\u001b[38;5;250m \u001b[39m\u001b[34mvalidate_user\u001b[39m(name,email,password):\n\u001b[32m      5\u001b[39m     \u001b[38;5;28;01mif\u001b[39;00m validate_name(name)== \u001b[38;5;28;01mFalse\u001b[39;00m:\n",
      "\u001b[31mModuleNotFoundError\u001b[39m: No module named 'python_functions'"
     ]
    }
   ],
   "source": [
    "# Re-run this cell and examine the docstring of each function\n",
    "from python_functions import validate_name, validate_email, validate_password\n",
    "def validate_user(name,email,password):\n",
    "    \n",
    "    if validate_name(name)== False:\n",
    "        raise ValueError(\"error message about the failing validation\")\n",
    "    if validate_email(email) == False:\n",
    "        raise ValueError(\"error message about the failing validation\")\n",
    "    if validate_password(password) == False:\n",
    "        raise ValueError(\"error message about the failing validation\")\n",
    "    return True\n",
    "def register_user(name,email,password):\n",
    "    try:\n",
    "        validate_user(name,email,password) \n",
    "    except:\n",
    "        return False\n",
    "    user = {\"name\" : name,\n",
    "            \"email\" : email,\n",
    "            \"password\" : password}\n",
    "    return user\n",
    "\n",
    "      "
   ]
  },
  {
   "cell_type": "code",
   "execution_count": null,
   "id": "05f8c17e-84b8-420c-84f1-af7015efbc8e",
   "metadata": {
    "executionCancelledAt": null,
    "executionTime": 44,
    "lastExecutedAt": 1759069490479,
    "lastExecutedByKernel": "9a2c43c9-416c-4f46-a747-192d17bc27f7",
    "lastScheduledRunId": null,
    "lastSuccessfullyExecutedCode": "# Start coding here\n# Use as many cells as you need"
   },
   "outputs": [],
   "source": [
    "# Start coding here\n",
    "# Use as many cells as you need"
   ]
  },
  {
   "cell_type": "code",
   "execution_count": null,
   "id": "bf872837-801e-476d-b5f9-b1a8b04512f0",
   "metadata": {},
   "outputs": [],
   "source": [
    "\n",
    "      "
   ]
  },
  {
   "cell_type": "code",
   "execution_count": null,
   "id": "814dc62a-708c-4d5e-9ce4-78ed7552126f",
   "metadata": {},
   "outputs": [],
   "source": []
  },
  {
   "cell_type": "code",
   "execution_count": null,
   "id": "0632395e-7f6e-4f21-9d96-928b6d196a83",
   "metadata": {},
   "outputs": [],
   "source": []
  }
 ],
 "metadata": {
  "editor": "DataCamp Workspace",
  "kernelspec": {
   "display_name": "Python 3 (ipykernel)",
   "language": "python",
   "name": "python3"
  },
  "language_info": {
   "codemirror_mode": {
    "name": "ipython",
    "version": 3
   },
   "file_extension": ".py",
   "mimetype": "text/x-python",
   "name": "python",
   "nbconvert_exporter": "python",
   "pygments_lexer": "ipython3",
   "version": "3.13.7"
  }
 },
 "nbformat": 4,
 "nbformat_minor": 5
}
